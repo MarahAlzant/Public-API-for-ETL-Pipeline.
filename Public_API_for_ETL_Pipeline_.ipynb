{
  "nbformat": 4,
  "nbformat_minor": 0,
  "metadata": {
    "colab": {
      "provenance": []
    },
    "kernelspec": {
      "name": "python3",
      "display_name": "Python 3"
    },
    "language_info": {
      "name": "python"
    }
  },
  "cells": [
    {
      "cell_type": "markdown",
      "source": [
        "**Overview**\n",
        "\n",
        "This code demonstrates a simplified Extract, Transform, Load (ETL) process using a public API. It fetches data from the Open Library API, inspects its structure, and then attempts to convert it into a table-like format for analysis using the pandas library.\n",
        "\n",
        "**Imports**"
      ],
      "metadata": {
        "id": "8iaf7cSyGlCz"
      }
    },
    {
      "cell_type": "code",
      "source": [
        "import requests\n",
        "import pandas as pd\n",
        "import json"
      ],
      "metadata": {
        "id": "hWddAIdzBNgL"
      },
      "execution_count": null,
      "outputs": []
    },
    {
      "cell_type": "markdown",
      "source": [
        "*   requests: This library is used to make HTTP requests, allowing the code to fetch data from the API.ist item\n",
        "*   pandas: This library provides powerful data structures like\n",
        "*   json: This library is used to work with JSON data, which is a common format for data exchange on the web.\n",
        "\n",
        "\n",
        "\n"
      ],
      "metadata": {
        "id": "WmyAaKmUG4XD"
      }
    },
    {
      "cell_type": "markdown",
      "source": [
        "**1. Select API and Fetch Data**"
      ],
      "metadata": {
        "id": "VMcev6njHlam"
      }
    },
    {
      "cell_type": "code",
      "source": [
        "api_url = \"https://openlibrary.org/search.json?q=the+lord+of+the+rings\"\n",
        "\n",
        "try:\n",
        "    response = requests.get(api_url)\n",
        "    response.raise_for_status()\n",
        "    data = response.json()\n",
        "except requests.exceptions.RequestException as e:\n",
        "    print(f\"Error fetching data from API: {e}\")\n",
        "    exit()"
      ],
      "metadata": {
        "id": "I1x1opP0Hqwi"
      },
      "execution_count": null,
      "outputs": []
    },
    {
      "cell_type": "markdown",
      "source": [
        "*   api_url: This variable stores the URL of the Open Library API endpoint. It's designed to search for books related to \"The Lord of the Rings.\"\n",
        "*   requests.get(api_url): This line sends a GET request to the API to fetch data.\n",
        "*   response.raise_for_status(): This checks if the request was successful (status code 200). If not, it raises an exception.\n",
        "*   data = response.json(): This line converts the API response (which is in JSON format) into a Python dictionary called data.\n",
        "*  The try...except block handles potential errors during the API request, printing an error message and exiting if something goes wrong."
      ],
      "metadata": {
        "id": "tRzLk60lHzLF"
      }
    },
    {
      "cell_type": "markdown",
      "source": [
        "**2. Inspect Data Format and Schema**"
      ],
      "metadata": {
        "id": "Xgc-MOrhIOGo"
      }
    },
    {
      "cell_type": "code",
      "source": [
        "print(\"Data type:\", type(data))\n",
        "print(\"Keys in the JSON response:\", data.keys())\n",
        "\n",
        "if 'docs' in data:\n",
        "  print(\"Example of a single record schema:\", data['docs'][0].keys() if data['docs'] else \"No documents found.\")\n",
        "else:\n",
        "    print(\"No 'docs' key in the response. Check the API response format.\")"
      ],
      "metadata": {
        "colab": {
          "base_uri": "https://localhost:8080/"
        },
        "id": "aJ1CpHYfHyAR",
        "outputId": "1cc89711-13c7-4e9e-af78-8736c7cacabd"
      },
      "execution_count": null,
      "outputs": [
        {
          "output_type": "stream",
          "name": "stdout",
          "text": [
            "Data type: <class 'dict'>\n",
            "Keys in the JSON response: dict_keys(['numFound', 'start', 'numFoundExact', 'docs', 'num_found', 'q', 'offset'])\n",
            "Example of a single record schema: dict_keys(['author_alternative_name', 'author_key', 'author_name', 'contributor', 'cover_edition_key', 'cover_i', 'ddc', 'ebook_access', 'ebook_count_i', 'edition_count', 'edition_key', 'first_publish_year', 'first_sentence', 'format', 'has_fulltext', 'ia', 'ia_collection', 'ia_collection_s', 'isbn', 'key', 'language', 'last_modified_i', 'lcc', 'lccn', 'lending_edition_s', 'lending_identifier_s', 'number_of_pages_median', 'oclc', 'osp_count', 'printdisabled_s', 'public_scan_b', 'publish_date', 'publish_place', 'publish_year', 'publisher', 'seed', 'title', 'title_sort', 'title_suggest', 'type', 'id_goodreads', 'id_librarything', 'id_dnb', 'id_doi', 'id_amazon', 'id_depósito_legal', 'id_alibris_id', 'id_google', 'id_paperback_swap', 'id_wikidata', 'id_better_world_books', 'id_overdrive', 'id_canadian_national_library_archive', 'subject', 'place', 'time', 'person', 'ia_loaded_id', 'ia_box_id', 'ratings_average', 'ratings_sortable', 'ratings_count', 'ratings_count_1', 'ratings_count_2', 'ratings_count_3', 'ratings_count_4', 'ratings_count_5', 'readinglog_count', 'want_to_read_count', 'currently_reading_count', 'already_read_count', 'publisher_facet', 'person_key', 'time_facet', 'place_key', 'person_facet', 'subject_facet', '_version_', 'place_facet', 'lcc_sort', 'author_facet', 'subject_key', 'ddc_sort', 'time_key'])\n"
          ]
        }
      ]
    },
    {
      "cell_type": "markdown",
      "source": [
        "\n",
        "\n",
        "*   print(\"Data type:\", type(data)): This line displays the data type of the data variable, which should be a dictionary.\n",
        "\n",
        "*   print(\"Keys in the JSON response:\", data.keys()): This line prints the top-level keys within the JSON data to understand its structure.\n",
        "\n",
        "\n",
        "*   The if statement checks if the response contains a key called docs. If it does, it prints the keys of the first record within the docs list to show the schema of individual data entries. If the 'docs' key is not present or contains an empty list, a message would be displayed.\n",
        "\n",
        "\n",
        "\n"
      ],
      "metadata": {
        "id": "QY-DXJ_lIkEa"
      }
    },
    {
      "cell_type": "markdown",
      "source": [
        "**3. Convert to DataFrame and Analyze**"
      ],
      "metadata": {
        "id": "hiyrP1msI0nx"
      }
    },
    {
      "cell_type": "code",
      "source": [
        "try:\n",
        "    df = pd.json_normalize(data['docs'])\n",
        "\n",
        "    print(\"\\nFirst 5 rows of the DataFrame:\")\n",
        "    print(df.head())\n",
        "\n",
        "    print(\"\\nDataFrame info:\")\n",
        "    print(df.info())\n",
        "\n",
        "    print(\"\\nDescriptive statistics:\")\n",
        "    print(df.describe(include='all'))\n",
        "\n",
        "except KeyError as e:\n",
        "    print(f\"Error: Key '{e}' not found in the API response. Data format may not be suitable for direct DataFrame conversion.\")\n",
        "    print(\"Raw API Response:\")\n",
        "    print(json.dumps(data, indent=2))\n",
        "except Exception as e:\n",
        "  print(f\"An error occurred during dataframe creation: {e}\")"
      ],
      "metadata": {
        "colab": {
          "base_uri": "https://localhost:8080/"
        },
        "id": "LvsnPKGEIMsJ",
        "outputId": "44bc7863-48c1-420e-eeae-e7faf64d18a3"
      },
      "execution_count": null,
      "outputs": [
        {
          "output_type": "stream",
          "name": "stdout",
          "text": [
            "\n",
            "First 5 rows of the DataFrame:\n",
            "                             author_alternative_name  author_key  \\\n",
            "0  [J R R Tolkien, John Ronald Reuel Tolkien, Dzh...  [OL26320A]   \n",
            "1  [Dzhon R. R. Tolkin, J. R.R. Tolkien, Tolkien,...  [OL26320A]   \n",
            "2  [Yue Han Luo Na De Rui Er Tuo Er Jin, J R R To...  [OL26320A]   \n",
            "3  [Yue Han Luo Na De Rui Er Tuo Er Jin, J R R To...  [OL26320A]   \n",
            "4  [J R R Tolkien, J.R.R.Tolkien, John Ronald Reu...  [OL26320A]   \n",
            "\n",
            "        author_name                                        contributor  \\\n",
            "0  [J.R.R. Tolkien]  [Kořínek, Otakar, 1946-, Tolkien, J. R. R. 189...   \n",
            "1  [J.R.R. Tolkien]  [Lee, Alan., Ipek, Çigdem Erkal., Tolkien, J....   \n",
            "2  [J.R.R. Tolkien]  [Alan Lee (Illustrator), Grathmer, Ingahild., ...   \n",
            "3  [J.R.R. Tolkien]  [Matilde Horne (Translator), Grathmer, Ingahil...   \n",
            "4  [J.R.R. Tolkien]                                                NaN   \n",
            "\n",
            "  cover_edition_key     cover_i  \\\n",
            "0       OL51694024M  14625765.0   \n",
            "1       OL51708686M  14627060.0   \n",
            "2       OL51711454M  14627564.0   \n",
            "3       OL51708706M  14627062.0   \n",
            "4        OL7466533M    255844.0   \n",
            "\n",
            "                                                 ddc ebook_access  \\\n",
            "0                         [823.91, 823.912, 823.914]   borrowable   \n",
            "1                     [823.912 s, 823.912, 823, 813]   borrowable   \n",
            "2           [[Fic], 813, 823.912, 823.91, 823.912 s]   borrowable   \n",
            "3  [[Fic], 813, 813.912, 823.912, 823.91, 823.912...   borrowable   \n",
            "4                                                NaN     no_ebook   \n",
            "\n",
            "   ebook_count_i  edition_count  ...  \\\n",
            "0             24            250  ...   \n",
            "1             71            296  ...   \n",
            "2             76            277  ...   \n",
            "3             83            271  ...   \n",
            "4              0             24  ...   \n",
            "\n",
            "                                   id_amazon_it_asin               id_bcid  \\\n",
            "0                                                NaN                   NaN   \n",
            "1  [8845290409, B00JR9Y42A, 2070612880, 060624423...  [12802800, 12802787]   \n",
            "2  [0345917448, 141761840X, 1556903227, 884529042...            [12804026]   \n",
            "3  [9721041548, 0345332091, 0345917456, 884529041...            [12804060]   \n",
            "4                                                NaN                   NaN   \n",
            "\n",
            "                                              id_nla  \\\n",
            "0                                                NaN   \n",
            "1                       [5961254, 6331275, 44702252]   \n",
            "2  [46585829, 8100354, 1429660, 42362607, 2528233...   \n",
            "3                       [3204569, 8100354, 42362607]   \n",
            "4                                                NaN   \n",
            "\n",
            "  id_british_national_bibliography    id_scribd id_hathi_trust  \\\n",
            "0                              NaN          NaN            NaN   \n",
            "1                      [GB7428478]          NaN            NaN   \n",
            "2           [GB7428479, GB7905351]  [295928580]    [006059825]   \n",
            "3                  [BNB GB9049021]  [302184403]    [006059825]   \n",
            "4                              NaN          NaN            NaN   \n",
            "\n",
            "       id_british_library id_bibliothèque_nationale_de_france id_libris  \\\n",
            "0                     NaN                                 NaN       NaN   \n",
            "1                     NaN                                 NaN       NaN   \n",
            "2  [005580750, 006716450]                     [FRBNF34580695]       NaN   \n",
            "3                     NaN                                 NaN       NaN   \n",
            "4                     NaN                                 NaN       NaN   \n",
            "\n",
            "  subtitle  \n",
            "0      NaN  \n",
            "1      NaN  \n",
            "2      NaN  \n",
            "3      NaN  \n",
            "4      NaN  \n",
            "\n",
            "[5 rows x 97 columns]\n",
            "\n",
            "DataFrame info:\n",
            "<class 'pandas.core.frame.DataFrame'>\n",
            "RangeIndex: 100 entries, 0 to 99\n",
            "Data columns (total 97 columns):\n",
            " #   Column                                Non-Null Count  Dtype  \n",
            "---  ------                                --------------  -----  \n",
            " 0   author_alternative_name               32 non-null     object \n",
            " 1   author_key                            90 non-null     object \n",
            " 2   author_name                           90 non-null     object \n",
            " 3   contributor                           26 non-null     object \n",
            " 4   cover_edition_key                     63 non-null     object \n",
            " 5   cover_i                               70 non-null     float64\n",
            " 6   ddc                                   33 non-null     object \n",
            " 7   ebook_access                          100 non-null    object \n",
            " 8   ebook_count_i                         100 non-null    int64  \n",
            " 9   edition_count                         100 non-null    int64  \n",
            " 10  edition_key                           98 non-null     object \n",
            " 11  first_publish_year                    89 non-null     float64\n",
            " 12  first_sentence                        10 non-null     object \n",
            " 13  format                                54 non-null     object \n",
            " 14  has_fulltext                          100 non-null    bool   \n",
            " 15  ia                                    40 non-null     object \n",
            " 16  ia_collection                         39 non-null     object \n",
            " 17  ia_collection_s                       39 non-null     object \n",
            " 18  isbn                                  88 non-null     object \n",
            " 19  key                                   100 non-null    object \n",
            " 20  language                              75 non-null     object \n",
            " 21  last_modified_i                       100 non-null    int64  \n",
            " 22  lcc                                   42 non-null     object \n",
            " 23  lccn                                  30 non-null     object \n",
            " 24  lending_edition_s                     35 non-null     object \n",
            " 25  lending_identifier_s                  35 non-null     object \n",
            " 26  number_of_pages_median                68 non-null     float64\n",
            " 27  oclc                                  38 non-null     object \n",
            " 28  osp_count                             15 non-null     float64\n",
            " 29  printdisabled_s                       39 non-null     object \n",
            " 30  public_scan_b                         100 non-null    bool   \n",
            " 31  publish_date                          89 non-null     object \n",
            " 32  publish_place                         45 non-null     object \n",
            " 33  publish_year                          89 non-null     object \n",
            " 34  publisher                             92 non-null     object \n",
            " 35  seed                                  100 non-null    object \n",
            " 36  title                                 100 non-null    object \n",
            " 37  title_sort                            100 non-null    object \n",
            " 38  title_suggest                         100 non-null    object \n",
            " 39  type                                  100 non-null    object \n",
            " 40  id_goodreads                          53 non-null     object \n",
            " 41  id_librarything                       53 non-null     object \n",
            " 42  id_dnb                                2 non-null      object \n",
            " 43  id_doi                                4 non-null      object \n",
            " 44  id_amazon                             20 non-null     object \n",
            " 45  id_depósito_legal                     3 non-null      object \n",
            " 46  id_alibris_id                         5 non-null      object \n",
            " 47  id_google                             5 non-null      object \n",
            " 48  id_paperback_swap                     4 non-null      object \n",
            " 49  id_wikidata                           7 non-null      object \n",
            " 50  id_better_world_books                 12 non-null     object \n",
            " 51  id_overdrive                          6 non-null      object \n",
            " 52  id_canadian_national_library_archive  1 non-null      object \n",
            " 53  subject                               52 non-null     object \n",
            " 54  place                                 13 non-null     object \n",
            " 55  time                                  6 non-null      object \n",
            " 56  person                                29 non-null     object \n",
            " 57  ia_loaded_id                          12 non-null     object \n",
            " 58  ia_box_id                             20 non-null     object \n",
            " 59  ratings_average                       13 non-null     float64\n",
            " 60  ratings_sortable                      13 non-null     float64\n",
            " 61  ratings_count                         13 non-null     float64\n",
            " 62  ratings_count_1                       13 non-null     float64\n",
            " 63  ratings_count_2                       13 non-null     float64\n",
            " 64  ratings_count_3                       13 non-null     float64\n",
            " 65  ratings_count_4                       13 non-null     float64\n",
            " 66  ratings_count_5                       13 non-null     float64\n",
            " 67  readinglog_count                      58 non-null     float64\n",
            " 68  want_to_read_count                    58 non-null     float64\n",
            " 69  currently_reading_count               58 non-null     float64\n",
            " 70  already_read_count                    58 non-null     float64\n",
            " 71  publisher_facet                       92 non-null     object \n",
            " 72  person_key                            29 non-null     object \n",
            " 73  time_facet                            6 non-null      object \n",
            " 74  place_key                             13 non-null     object \n",
            " 75  person_facet                          29 non-null     object \n",
            " 76  subject_facet                         52 non-null     object \n",
            " 77  _version_                             100 non-null    int64  \n",
            " 78  place_facet                           13 non-null     object \n",
            " 79  lcc_sort                              42 non-null     object \n",
            " 80  author_facet                          90 non-null     object \n",
            " 81  subject_key                           52 non-null     object \n",
            " 82  ddc_sort                              33 non-null     object \n",
            " 83  time_key                              6 non-null      object \n",
            " 84  id_amazon_co_uk_asin                  3 non-null      object \n",
            " 85  id_amazon_de_asin                     3 non-null      object \n",
            " 86  id_amazon_ca_asin                     3 non-null      object \n",
            " 87  id_amazon_it_asin                     3 non-null      object \n",
            " 88  id_bcid                               5 non-null      object \n",
            " 89  id_nla                                3 non-null      object \n",
            " 90  id_british_national_bibliography      3 non-null      object \n",
            " 91  id_scribd                             2 non-null      object \n",
            " 92  id_hathi_trust                        2 non-null      object \n",
            " 93  id_british_library                    1 non-null      object \n",
            " 94  id_bibliothèque_nationale_de_france   1 non-null      object \n",
            " 95  id_libris                             2 non-null      object \n",
            " 96  subtitle                              4 non-null      object \n",
            "dtypes: bool(2), float64(16), int64(4), object(75)\n",
            "memory usage: 74.5+ KB\n",
            "None\n",
            "\n",
            "Descriptive statistics:\n",
            "                                  author_alternative_name  author_key  \\\n",
            "count                                                  32          90   \n",
            "unique                                                 24          65   \n",
            "top     [John Ronald Reuel Tolkien, Dzhon R. R. Tolkin...  [OL26320A]   \n",
            "freq                                                    5          10   \n",
            "mean                                                  NaN         NaN   \n",
            "std                                                   NaN         NaN   \n",
            "min                                                   NaN         NaN   \n",
            "25%                                                   NaN         NaN   \n",
            "50%                                                   NaN         NaN   \n",
            "75%                                                   NaN         NaN   \n",
            "max                                                   NaN         NaN   \n",
            "\n",
            "             author_name                     contributor cover_edition_key  \\\n",
            "count                 90                              26                63   \n",
            "unique                64                              23                63   \n",
            "top     [J.R.R. Tolkien]  [Tolkien, J. R. R. 1892-1973.]       OL51694024M   \n",
            "freq                  10                               4                 1   \n",
            "mean                 NaN                             NaN               NaN   \n",
            "std                  NaN                             NaN               NaN   \n",
            "min                  NaN                             NaN               NaN   \n",
            "25%                  NaN                             NaN               NaN   \n",
            "50%                  NaN                             NaN               NaN   \n",
            "75%                  NaN                             NaN               NaN   \n",
            "max                  NaN                             NaN               NaN   \n",
            "\n",
            "             cover_i        ddc ebook_access  ebook_count_i  edition_count  \\\n",
            "count   7.000000e+01         33          100     100.000000     100.000000   \n",
            "unique           NaN         17            4            NaN            NaN   \n",
            "top              NaN  [823.912]     no_ebook            NaN            NaN   \n",
            "freq             NaN         15           60            NaN            NaN   \n",
            "mean    5.925218e+06        NaN          NaN       3.950000      24.230000   \n",
            "std     5.538983e+06        NaN          NaN      15.759797      91.893642   \n",
            "min     1.044900e+04        NaN          NaN       0.000000       0.000000   \n",
            "25%     5.625282e+05        NaN          NaN       0.000000       1.000000   \n",
            "50%     4.321118e+06        NaN          NaN       0.000000       1.000000   \n",
            "75%     1.220537e+07        NaN          NaN       1.000000       3.000000   \n",
            "max     1.462756e+07        NaN          NaN      88.000000     619.000000   \n",
            "\n",
            "        ...                                  id_amazon_it_asin  \\\n",
            "count   ...                                                  3   \n",
            "unique  ...                                                  3   \n",
            "top     ...  [8845290409, B00JR9Y42A, 2070612880, 060624423...   \n",
            "freq    ...                                                  1   \n",
            "mean    ...                                                NaN   \n",
            "std     ...                                                NaN   \n",
            "min     ...                                                NaN   \n",
            "25%     ...                                                NaN   \n",
            "50%     ...                                                NaN   \n",
            "75%     ...                                                NaN   \n",
            "max     ...                                                NaN   \n",
            "\n",
            "                     id_bcid                        id_nla  \\\n",
            "count                      5                             3   \n",
            "unique                     5                             3   \n",
            "top     [12802800, 12802787]  [5961254, 6331275, 44702252]   \n",
            "freq                       1                             1   \n",
            "mean                     NaN                           NaN   \n",
            "std                      NaN                           NaN   \n",
            "min                      NaN                           NaN   \n",
            "25%                      NaN                           NaN   \n",
            "50%                      NaN                           NaN   \n",
            "75%                      NaN                           NaN   \n",
            "max                      NaN                           NaN   \n",
            "\n",
            "       id_british_national_bibliography    id_scribd id_hathi_trust  \\\n",
            "count                                 3            2              2   \n",
            "unique                                3            2              1   \n",
            "top                         [GB7428478]  [295928580]    [006059825]   \n",
            "freq                                  1            1              2   \n",
            "mean                                NaN          NaN            NaN   \n",
            "std                                 NaN          NaN            NaN   \n",
            "min                                 NaN          NaN            NaN   \n",
            "25%                                 NaN          NaN            NaN   \n",
            "50%                                 NaN          NaN            NaN   \n",
            "75%                                 NaN          NaN            NaN   \n",
            "max                                 NaN          NaN            NaN   \n",
            "\n",
            "            id_british_library id_bibliothèque_nationale_de_france  \\\n",
            "count                        1                                   1   \n",
            "unique                       1                                   1   \n",
            "top     [005580750, 006716450]                     [FRBNF34580695]   \n",
            "freq                         1                                   1   \n",
            "mean                       NaN                                 NaN   \n",
            "std                        NaN                                 NaN   \n",
            "min                        NaN                                 NaN   \n",
            "25%                        NaN                                 NaN   \n",
            "50%                        NaN                                 NaN   \n",
            "75%                        NaN                                 NaN   \n",
            "max                        NaN                                 NaN   \n",
            "\n",
            "                 id_libris              subtitle  \n",
            "count                    2                     4  \n",
            "unique                   2                     4  \n",
            "top     [7629638, 8373032]  A Reader's Companion  \n",
            "freq                     1                     1  \n",
            "mean                   NaN                   NaN  \n",
            "std                    NaN                   NaN  \n",
            "min                    NaN                   NaN  \n",
            "25%                    NaN                   NaN  \n",
            "50%                    NaN                   NaN  \n",
            "75%                    NaN                   NaN  \n",
            "max                    NaN                   NaN  \n",
            "\n",
            "[11 rows x 97 columns]\n"
          ]
        }
      ]
    },
    {
      "cell_type": "markdown",
      "source": [
        "\n",
        "\n",
        "*   df = pd.json_normalize(data['docs']): This attempts to convert the 'docs' section of the JSON data (which likely contains a list of book records) into a pandas DataFrame. A DataFrame is a table-like structure that's easier to analyze.\n",
        "\n",
        "*   print(df.head()): This displays the first 5 rows of the DataFrame.\n",
        "\n",
        "*   print(df.info()): This provides information about the DataFrame, such as the data types of columns and the number of non-null values.\n",
        "*  print(df.describe(include='all')): This calculates and displays descriptive statistics (like mean, standard deviation, etc.) for the DataFrame columns.\n",
        "\n",
        "\n",
        "*   The try...except block handles potential errors during the DataFrame creation and analysis. If a KeyError occurs (e.g., if the 'docs' key is missing), it prints an error message\n",
        "\n",
        "\n",
        "\n",
        "\n"
      ],
      "metadata": {
        "id": "_60-QZ8wI7Oh"
      }
    },
    {
      "cell_type": "markdown",
      "source": [
        "**Another simple Example**"
      ],
      "metadata": {
        "id": "-UtfDaOtKEK5"
      }
    },
    {
      "cell_type": "code",
      "source": [
        "import requests\n",
        "import pandas as pd\n",
        "import sqlite3\n",
        "\n",
        "# Step 1: Extract Data\n",
        "API_KEY = '872a7b3e18b34056070a7c4724e4f152'\n",
        "CITY = 'Gaza'\n",
        "BASE_URL = f'http://api.openweathermap.org/data/2.5/weather?q={CITY}&appid={API_KEY}&units=metric'\n",
        "\n",
        "response = requests.get(BASE_URL)\n",
        "data = response.json()\n",
        "\n",
        "# Step 2: Transform Data\n",
        "# Checking the schema and extracting relevant fields\n",
        "weather_data = {\n",
        "    'City': data['name'],\n",
        "    'Temperature': data['main']['temp'],\n",
        "    'Weather': data['weather'][0]['description'],\n",
        "    'Humidity': data['main']['humidity'],\n",
        "    'Pressure': data['main']['pressure'],\n",
        "    'Wind Speed': data['wind']['speed']\n",
        "}\n",
        "\n",
        "# Converting to DataFrame\n",
        "df = pd.DataFrame([weather_data])\n",
        "\n",
        "# Step 3: Load Data\n",
        "# Save to SQLite database\n",
        "conn = sqlite3.connect('weather_data.db')\n",
        "df.to_sql('Weather', conn, if_exists='replace', index=False)\n",
        "\n",
        "# Display the DataFrame\n",
        "print(\"Data Loaded Successfully!\")\n",
        "print(df)"
      ],
      "metadata": {
        "id": "KzWu_8gSKCiS"
      },
      "execution_count": null,
      "outputs": []
    }
  ]
}